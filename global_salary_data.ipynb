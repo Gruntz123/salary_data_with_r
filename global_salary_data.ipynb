# %% [code]
## About this data set

Hello guys! I just finished the Google Certificate on Data Analysis. This was the data set I picked for my final project.

The goal was to make some beautiful plots and be able to explain it to a full beginner. Hope you enjoy!

```{r setup, include=FALSE}
knitr::opts_chunk$set(echo = TRUE)
options(repos = structure(c(CRAN = "https://cran.rstudio.com/")))
```
## Loading Tidyverse

This piece of code install the 'tidyverse' package and load it to be used.

```{r Packages}
install.packages("tidyverse")
library(tidyverse)
```

## Adding dataset

Time to load our dataset!!
read_csv() is a function inside the 'readr' package, which comes with the installation of 'tidyverse'.

```{r Adding Dataset}
salary_data <- read_csv("/kaggle/input/global-salary-data/salary_data.csv")
```

## Cleaning data

We do not want dirty data! Time take an overlook at the data to check how its consistency is.

```{r Overview}
# Summary and glimpse will help us on an overview of the data. We can see: how many rows it has, how many columns, what data types we have and some quick calculations.
summary(salary_data)
glimpse(salary_data)
# Head will show us the beginning of the dataset
head(salary_data)

```

Before starting, we should also recheck for null values. Just remembering that we did a quick cleaning back at Google Sheets before starting.
```{r}
#Checking for nulls
sum(is.na(salary_data))
```


## Adding theme for plots!

We want our dataset looking really pretty! Put some make up on it.
We will use theme_set to set up the color and the face of the text.

```{r pressure}
theme_set(theme_bw()+
            theme(title = element_text(colour = "orange",
                                       face = "bold")))
```

## 1: Average Salary by Continent

First graph baby.
Lets take a look on the average salary by continent.

```{r Average Salary by Continent}
#Attributing the plot to a variable named: 'cont_avg_salary' and using ggplot for the vis.
cont_avgsalary <- 
  
  ggplot(salary_data) +
  
  # In this case geom_boxplot() defines how we want the graph to be displayed
  
  geom_boxplot(
    
    # Inside the geom_boxplot() function, we add the aesthetics.
    
    aes(
      
      # On the X axis, we want the continents
      
      x = continent_name,
      
      # On the Y axis, we want the average_salary
      
      y = average_salary,
      
      # 'fill' makes sure each continent has a different color, and the '+' sign add another layer to the plot
      
      fill = continent_name)) +
  
  # Time to add the money sign!! haha
  
  scale_y_continuous(labels = scales::dollar_format())+
  
  # Renaming the 'x' and y axis
  
  xlab("Continent") +
  
  ylab("Average Salary") +
  
  # Giving a title to the plot
  
  labs(title = "Average Salary by Continent", 
       
       # Changing the legend title
       
       fill = "Continent") +
  
  # Changing the angle of the labels on the 'x' axis so it becomes more readable
  
  guides(x = guide_axis(angle = 45))

# Seeing our beauty!

plot(cont_avgsalary)
```

## 2: Median Salary by Country, Grouped by Continent

 Time for the house special!
 
 This graph took me a while as a beginner because ggplot works a little different than expected.
 
### What I wanted

* X axis: every country in the data set;
* Y axis: the median salary;
* Ordered by: Continents;
 
This would show the median salary of every country, ordered by continent.
 
### Problem

* 'ggplot' takes into consideration the order of factors;
* sort(), arrange(), group_by() do not have an effect on the plot.

  
### Solution

The 'forcats' library, a library from 'tidyverse', is capable of solving problems regarding factors. The function fct_reorder() was capable of solving this problem.

```{r Average Salary by Country, Grouped by Continent}

# Storing the data set for the plot as 'ct' and using a pipe to make more operations

ct <- salary_data %>%
  
  # Making changes with mutate() and fct_reorder()
  # In this case, we want reorder the country_name column by continent_name:
  
  mutate(country_name = fct_reorder(country_name, continent_name))

# Visualizing 'ct'

head(ct)
```

The new data set was stored into 'ct'.

### Building the plot

```{r Median Salary by Country, Reordered by Continent}

msc <- ggplot(ct) +
  
  # Choosing geom_jitter as the new visualization, since it can prevent overplotting
  
  geom_jitter(
    
    # Adding the aesthetics with 'aes'. The main difference from the previous plot is the argument 'alpha = '
    
    aes(x = country_name, y = median_salary, color = continent_name), alpha = 0.5) +
  
  # Adding dollar format
  
  scale_y_continuous(labels = scales::dollar_format())+
  
  # Adding labels and title
  
  xlab("Average Salary") +
  
  ylab("Continent") +
  
  labs(title = "Median Salary By Country, Reordered by Continent", color = "Continent") +
  
  # Since the data set is large and contains more than 200 countries, the labels overlapped. This line corrects the overlap and changes the angle of the label. Found this on the ggplot documentation.
  
  guides(x = guide_axis(check.overlap = TRUE, angle = 90))

print(msc)
```


## 3. Lowest salaries among countries

This plot was very fun to make. For a beginner, it highly improves your code search skills.

### What I wanted

* Top 10 lowest salaries;
* Labels inside the graphic;
* Salaries rounded with at least two decimals;

### Problem

* How can I select the top 10?
* How to add labels inside the graphic?
* How to add dollar signs into the label?
* How to rescale the plot with the limits I wanted?
* How do I round numbers?

### Solution

No joke... It was a deep dive into the documentation!

Now seriously:

* Adding the arguments inside 'ggplot' instead of the 'geom';
* Adding 'geom_text' after 'geom_col' to add the labels into the plot;
* Adding the function round() inside 'geom_text' and with the dollar sign

Lets dive into it!

```{r Reordering Lowest paid countries}

# Attributing new dataframe to 'lp':

lp <- salary_data %>%
  
  # Arranging 'lp' by 'lowest_salary' in ascending order: 
  
  arrange(lowest_salary) %>%
  
  # Reordering factors so that 'ggplot' can use it:
  
  mutate(country_name = fct_reorder(country_name, lowest_salary)) %>%
  
  # Select the first 10 values
  
  slice(1:10)

# Checking the output

head(lp)
```

### Building the plot

```{r Top 10 lowest salaries}

# Attributing the plot to 'least_paid' 

least_paid <-
  
  # Adding the aesthetic arguments to 'ggplot' instead of the 'geom'. This way the aesthetic will apply to every geom added
  
ggplot(lp, mapping = aes(x = country_name, y = lowest_salary, fill = continent_name)) + 
  
  # Selecting the visualization I want. In this case a bar graph with one categorical and one continuous variable
  
  geom_col() +
  
  # Adding a text layer to the 'geom_col'
  
  geom_text(
    
    # Adding new aesthetics arguments to 'geom_text'
    
    aes(
      
      # Adding the dollar sign to the label
      
      label = scales::dollar(
        
        # We just want two decimals and not the whole number. So we add the round() function:
        
        round(
          
          # We identify what to round, and how many decimals. Also we close the aes() bracket:
          
          lowest_salary, 2)
        )
      ),
    
    # The label is inside the bar. We add the 'nudge_y' to put it over the bar. The label becomes readable.
    
    nudge_y = 3) +
  
  # Add the dollar sign to the 'y' axis
  
  scale_y_continuous(label = scales::dollar_format(), 
                     
                     # Setting up the scale range
                     
                     limits = c(0, 50)) +
  
  # Adding the labels to 'x and 'y' axis, and adding title and subtitle to plot.
  
  xlab("Countries") +
  
  ylab("Lowest Salaries") +
  
  labs(title = "Lowest Salaries among countries", subtitle = "Half of the countries are from Africa", fill = "Continent")+
  
  # Changing the angle of 'x' so it does not overlap:
  
  guides(x = guide_axis(angle = 45))

# Showing plot

plot(least_paid)
```

## 4. Highest paying countries

After entering the code for lowest salaries, this one becomes easy!

### Main differences

* Arrange 'highest_salary' by descending order;
* Change labels;
* Change 'nudge_y' value;
* Change the 'size' of the label;
* Take out 'limits' argument from 'scale_y_continuous'


### Reordering dataset

```{r Reordering dataset into mp}

mp <- salary_data %>%
  
  # Rearrange 'highest_salary' to descending order
  
  arrange(desc(highest_salary)) %>%
  
  mutate(country_name = fct_reorder(country_name, highest_salary)) %>%
  
  slice(1:10)

head(mp)
```

### Building the plot

```{r Highest Salaries among Countries}

# The plot 
most_paid <-
  
ggplot(mp, mapping = aes(x = country_name, y = highest_salary, fill = continent_name)) +
  
  geom_col() +
  
  geom_text(aes(label = scales::dollar(round(highest_salary, 2))),
            
            # Changed the 'nudge_y' value so it could be seen in the plot
            
            nudge_y = 5000, 
            
            # Adding a 'size' argument. The label now is visible 
            
            size = 2) +
  
  scale_y_continuous(label = scales::dollar_format())+
  
  guides(x = guide_axis(angle = 45))+
  
  xlab("Countries") +
  
  ylab("Highest Salaries") +
  
  labs(title = "Highest Salaries among Countries", subtitle = "7 out 10 countries are from Europe", fill = "Continent") 

plot(most_paid)
```


## 5. Top 25 countries are responsible for

Next goal was to find out if the top 25 countries were responsible for a significant portion of salaries around the world.

### What I wanted

* A pie chart;
* Find out how much the top 25 was responsible for average salaries.

### Problem

* Find out the right function to plot the pie chart;
* Segment the data set to select the top 25;
* Sum the top 25 values;
* Sum all the values;
* Set values to variables.

### Solution

* Create pie chart with 'pie()';
* Use slice() to select the date;
* Use sum(data$column) to find the total of the top 25;
* Make a quick calculation to find the percentage;
* Set the values

```{r Selecting top 25}

# Selecting the top 25 as top_25:

top_25 <- salary_data %>%
  arrange(desc(average_salary)) %>%
  slice(1:25)

# Adding the top 25 average salary

sum_top_25 <- sum(top_25$average_salary)

# Check if everything is correct

print(top_25) # checking if it is ordered
print(sum_top_25) # Checking the result

```

### Adding all and calculating the percentage

```{r Adding all and calculating the percentage}

# Sum All

sum_all_avg <- sum(salary_data$average_salary)
print(sum_all_avg)

## Calculating the percentage

pct_25 <- (sum_top_25/sum_all_avg)*100
print(pct_25)
```

### Setting values, labels, and colors


```{r Setting values, labels, and colors}

# Defining the values

values <- c(33.26, 66.74)

# Defining labels

labels <- c("Top 25 countries", "All countries")

# Defining colors

colors <- c("orange4", "orange")
```

### The pie we all want

```{r The pie chart}

# The pie chart

# The pie() function

top25_pie <- pie(
  
  # Defining values
  
  values,
  
  # Defining labels:
  
    labels = labels, 
  
  # Setting the title:
  
  main = "Top 25 countries are responsible for 33% of salaries on average", 
  
  # Defining the color:
  
  col = colors,
  
  # Rotating the angle so it becomes more aesthetic
  
  init.angle = 330
  
  # Closing the pie() function
  
  )

```

